{
 "cells": [
  {
   "cell_type": "code",
   "execution_count": 1,
   "id": "0f5348f6-67a6-4c41-9aad-ff65556b06e1",
   "metadata": {},
   "outputs": [
    {
     "name": "stdout",
     "output_type": "stream",
     "text": [
      "Requirement already satisfied: numpy in c:\\users\\dorra\\anaconda3\\lib\\site-packages (1.26.4)\n",
      "Requirement already satisfied: pandas in c:\\users\\dorra\\anaconda3\\lib\\site-packages (2.2.2)\n",
      "Requirement already satisfied: scikit-learn in c:\\users\\dorra\\anaconda3\\lib\\site-packages (1.4.2)\n",
      "Requirement already satisfied: openpyxl in c:\\users\\dorra\\anaconda3\\lib\\site-packages (3.1.2)\n",
      "Requirement already satisfied: python-dateutil>=2.8.2 in c:\\users\\dorra\\appdata\\roaming\\python\\python312\\site-packages (from pandas) (2.9.0.post0)\n",
      "Requirement already satisfied: pytz>=2020.1 in c:\\users\\dorra\\anaconda3\\lib\\site-packages (from pandas) (2024.1)\n",
      "Requirement already satisfied: tzdata>=2022.7 in c:\\users\\dorra\\anaconda3\\lib\\site-packages (from pandas) (2023.3)\n",
      "Requirement already satisfied: scipy>=1.6.0 in c:\\users\\dorra\\anaconda3\\lib\\site-packages (from scikit-learn) (1.13.1)\n",
      "Requirement already satisfied: joblib>=1.2.0 in c:\\users\\dorra\\anaconda3\\lib\\site-packages (from scikit-learn) (1.4.2)\n",
      "Requirement already satisfied: threadpoolctl>=2.0.0 in c:\\users\\dorra\\anaconda3\\lib\\site-packages (from scikit-learn) (2.2.0)\n",
      "Requirement already satisfied: et-xmlfile in c:\\users\\dorra\\anaconda3\\lib\\site-packages (from openpyxl) (1.1.0)\n",
      "Requirement already satisfied: six>=1.5 in c:\\users\\dorra\\appdata\\roaming\\python\\python312\\site-packages (from python-dateutil>=2.8.2->pandas) (1.16.0)\n",
      "Note: you may need to restart the kernel to use updated packages.\n"
     ]
    }
   ],
   "source": [
    "pip install numpy pandas scikit-learn openpyxl\n"
   ]
  },
  {
   "cell_type": "code",
   "execution_count": 13,
   "id": "3c612596-eee1-4a69-af2d-19d89b59d599",
   "metadata": {},
   "outputs": [
    {
     "name": "stderr",
     "output_type": "stream",
     "text": [
      "C:\\Users\\dorra\\AppData\\Local\\Temp\\ipykernel_9616\\59394139.py:29: UserWarning: PySoundFile failed. Trying audioread instead.\n",
      "  y, sr = librosa.load(song_path, sr=None)  # Charger l'audio avec librosa\n",
      "C:\\Users\\dorra\\anaconda3\\Lib\\site-packages\\librosa\\core\\audio.py:184: FutureWarning: librosa.core.audio.__audioread_load\n",
      "\tDeprecated as of librosa version 0.10.0.\n",
      "\tIt will be removed in librosa version 1.0.\n",
      "  y, sr_native = __audioread_load(path, offset, duration, dtype)\n"
     ]
    },
    {
     "name": "stdout",
     "output_type": "stream",
     "text": [
      "Erreur lors du traitement de jazz.00054.wav: \n",
      "Forme des caractéristiques: (999, 58)\n",
      "Forme des labels: (999,)\n",
      "Précision du modèle: 61.00%\n"
     ]
    },
    {
     "name": "stderr",
     "output_type": "stream",
     "text": [
      "C:\\Users\\dorra\\AppData\\Local\\Temp\\ipykernel_9616\\59394139.py:73: UserWarning: FigureCanvasAgg is non-interactive, and thus cannot be shown\n",
      "  plt.show()\n"
     ]
    }
   ],
   "source": [
    "import librosa\n",
    "import os\n",
    "import numpy as np\n",
    "from sklearn.svm import SVC\n",
    "from sklearn.model_selection import train_test_split\n",
    "from sklearn.metrics import accuracy_score\n",
    "import joblib\n",
    "import matplotlib.pyplot as plt\n",
    "\n",
    "\n",
    "data_path = 'Data/genres_original/'\n",
    "\n",
    "genres = ['blues', 'classical', 'country', 'disco', 'hiphop', 'jazz', 'metal', 'pop', 'reggae', 'rock']\n",
    "\n",
    "def extract_features(path, genres):\n",
    "    features = []\n",
    "    labels = []\n",
    "    \n",
    "    for genre in genres:\n",
    "        genre_path = os.path.join(path, genre)\n",
    "        \n",
    "        for song in os.listdir(genre_path):\n",
    "            if song.endswith('.wav'):  \n",
    "                song_path = os.path.join(genre_path, song)\n",
    "                \n",
    "                try:\n",
    "                    y, sr = librosa.load(song_path, sr=None) \n",
    "                    mfccs = librosa.feature.mfcc(y=y, sr=sr, n_mfcc=58) \n",
    "                    mfccs_mean = np.mean(mfccs, axis=1)  \n",
    "                    features.append(mfccs_mean)  \n",
    "                    labels.append(genre)  \n",
    "                except Exception as e:\n",
    "                    print(f\"Erreur lors du traitement de {song}: {e}\")\n",
    "                    continue  \n",
    "    \n",
    "\n",
    "    features = np.vstack(features)\n",
    "    labels = np.array(labels)\n",
    "    return features, labels\n",
    "\n",
    "features, labels = extract_features(data_path, genres)\n",
    "\n",
    "print(f\"Forme des caractéristiques: {features.shape}\")\n",
    "print(f\"Forme des labels: {labels.shape}\")\n",
    "\n",
    "X_train, X_test, y_train, y_test = train_test_split(features, labels, test_size=0.2, random_state=42)\n",
    "\n",
    "model = SVC(kernel='linear')  \n",
    "model.fit(X_train, y_train)\n",
    "\n",
    "y_pred = model.predict(X_test)\n",
    "\n",
    "\n",
    "accuracy = accuracy_score(y_test, y_pred)\n",
    "print(f\"Précision du modèle: {accuracy * 100:.2f}%\")\n",
    "\n",
    "joblib.dump(model, 'svmodel.pkl')\n",
    "\n",
    "plt.figure(figsize=(6, 6))\n",
    "plt.scatter(range(len(y_test)), y_test, color='blue', label='Vérité terrain', alpha=0.7)\n",
    "plt.scatter(range(len(y_pred)), y_pred, color='red', label='Prédictions', alpha=0.7)\n",
    "plt.title(\"Vérité terrain vs Prédictions\")\n",
    "plt.legend()\n",
    "plt.show()\n"
   ]
  },
  {
   "cell_type": "code",
   "execution_count": null,
   "id": "06e7e49b-6d4c-4cd3-a3ed-e34cc0609832",
   "metadata": {},
   "outputs": [],
   "source": []
  }
 ],
 "metadata": {
  "kernelspec": {
   "display_name": "Python 3 (ipykernel)",
   "language": "python",
   "name": "python3"
  },
  "language_info": {
   "codemirror_mode": {
    "name": "ipython",
    "version": 3
   },
   "file_extension": ".py",
   "mimetype": "text/x-python",
   "name": "python",
   "nbconvert_exporter": "python",
   "pygments_lexer": "ipython3",
   "version": "3.12.4"
  }
 },
 "nbformat": 4,
 "nbformat_minor": 5
}
