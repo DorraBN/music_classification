{
 "cells": [
  {
   "cell_type": "code",
   "execution_count": 3,
   "id": "44137398-70f2-4de3-8f5f-e7364a714dfa",
   "metadata": {},
   "outputs": [
    {
     "name": "stderr",
     "output_type": "stream",
     "text": [
      "C:\\Users\\dorra\\AppData\\Local\\Temp\\ipykernel_22180\\3511488838.py:21: UserWarning: PySoundFile failed. Trying audioread instead.\n",
      "  y, sr = librosa.load(file_path, sr=None)\n",
      "C:\\Users\\dorra\\anaconda3\\Lib\\site-packages\\librosa\\core\\audio.py:184: FutureWarning: librosa.core.audio.__audioread_load\n",
      "\tDeprecated as of librosa version 0.10.0.\n",
      "\tIt will be removed in librosa version 1.0.\n",
      "  y, sr_native = __audioread_load(path, offset, duration, dtype)\n"
     ]
    },
    {
     "name": "stdout",
     "output_type": "stream",
     "text": [
      "Erreur lors de l'extraction du spectrogramme pour Data/genres_original/jazz\\jazz.00054.wav: \n",
      "Nombre de spectrogrammes extraits : 999\n",
      "Epoch 1/10\n",
      "\u001b[1m25/25\u001b[0m \u001b[32m━━━━━━━━━━━━━━━━━━━━\u001b[0m\u001b[37m\u001b[0m \u001b[1m96s\u001b[0m 4s/step - accuracy: 0.1055 - loss: 2.3227 - val_accuracy: 0.1900 - val_loss: 2.2672\n",
      "Epoch 2/10\n",
      "\u001b[1m25/25\u001b[0m \u001b[32m━━━━━━━━━━━━━━━━━━━━\u001b[0m\u001b[37m\u001b[0m \u001b[1m101s\u001b[0m 4s/step - accuracy: 0.2352 - loss: 2.1918 - val_accuracy: 0.1800 - val_loss: 2.1502\n",
      "Epoch 3/10\n",
      "\u001b[1m25/25\u001b[0m \u001b[32m━━━━━━━━━━━━━━━━━━━━\u001b[0m\u001b[37m\u001b[0m \u001b[1m113s\u001b[0m 4s/step - accuracy: 0.2958 - loss: 2.0200 - val_accuracy: 0.3000 - val_loss: 2.0013\n",
      "Epoch 4/10\n",
      "\u001b[1m25/25\u001b[0m \u001b[32m━━━━━━━━━━━━━━━━━━━━\u001b[0m\u001b[37m\u001b[0m \u001b[1m106s\u001b[0m 4s/step - accuracy: 0.3179 - loss: 1.9449 - val_accuracy: 0.2350 - val_loss: 1.9468\n",
      "Epoch 5/10\n",
      "\u001b[1m25/25\u001b[0m \u001b[32m━━━━━━━━━━━━━━━━━━━━\u001b[0m\u001b[37m\u001b[0m \u001b[1m104s\u001b[0m 4s/step - accuracy: 0.3070 - loss: 1.8738 - val_accuracy: 0.3050 - val_loss: 1.8799\n",
      "Epoch 6/10\n",
      "\u001b[1m25/25\u001b[0m \u001b[32m━━━━━━━━━━━━━━━━━━━━\u001b[0m\u001b[37m\u001b[0m \u001b[1m92s\u001b[0m 4s/step - accuracy: 0.3320 - loss: 1.8337 - val_accuracy: 0.2750 - val_loss: 1.8981\n",
      "Epoch 7/10\n",
      "\u001b[1m25/25\u001b[0m \u001b[32m━━━━━━━━━━━━━━━━━━━━\u001b[0m\u001b[37m\u001b[0m \u001b[1m93s\u001b[0m 4s/step - accuracy: 0.3079 - loss: 1.7960 - val_accuracy: 0.3350 - val_loss: 1.8540\n",
      "Epoch 8/10\n",
      "\u001b[1m25/25\u001b[0m \u001b[32m━━━━━━━━━━━━━━━━━━━━\u001b[0m\u001b[37m\u001b[0m \u001b[1m94s\u001b[0m 4s/step - accuracy: 0.3620 - loss: 1.7666 - val_accuracy: 0.3050 - val_loss: 1.9053\n",
      "Epoch 9/10\n",
      "\u001b[1m25/25\u001b[0m \u001b[32m━━━━━━━━━━━━━━━━━━━━\u001b[0m\u001b[37m\u001b[0m \u001b[1m96s\u001b[0m 4s/step - accuracy: 0.3308 - loss: 1.7747 - val_accuracy: 0.3250 - val_loss: 1.8086\n",
      "Epoch 10/10\n",
      "\u001b[1m25/25\u001b[0m \u001b[32m━━━━━━━━━━━━━━━━━━━━\u001b[0m\u001b[37m\u001b[0m \u001b[1m94s\u001b[0m 4s/step - accuracy: 0.3688 - loss: 1.6753 - val_accuracy: 0.3400 - val_loss: 1.7476\n",
      "\u001b[1m7/7\u001b[0m \u001b[32m━━━━━━━━━━━━━━━━━━━━\u001b[0m\u001b[37m\u001b[0m \u001b[1m15s\u001b[0m 2s/step\n"
     ]
    },
    {
     "name": "stderr",
     "output_type": "stream",
     "text": [
      "C:\\Users\\dorra\\anaconda3\\Lib\\site-packages\\sklearn\\metrics\\_classification.py:1509: UndefinedMetricWarning: Precision is ill-defined and being set to 0.0 in labels with no predicted samples. Use `zero_division` parameter to control this behavior.\n",
      "  _warn_prf(average, modifier, f\"{metric.capitalize()} is\", len(result))\n",
      "C:\\Users\\dorra\\anaconda3\\Lib\\site-packages\\sklearn\\metrics\\_classification.py:1509: UndefinedMetricWarning: Precision is ill-defined and being set to 0.0 in labels with no predicted samples. Use `zero_division` parameter to control this behavior.\n",
      "  _warn_prf(average, modifier, f\"{metric.capitalize()} is\", len(result))\n",
      "C:\\Users\\dorra\\anaconda3\\Lib\\site-packages\\sklearn\\metrics\\_classification.py:1509: UndefinedMetricWarning: Precision is ill-defined and being set to 0.0 in labels with no predicted samples. Use `zero_division` parameter to control this behavior.\n",
      "  _warn_prf(average, modifier, f\"{metric.capitalize()} is\", len(result))\n",
      "WARNING:absl:You are saving your model as an HDF5 file via `model.save()` or `keras.saving.save_model(model)`. This file format is considered legacy. We recommend using instead the native Keras format, e.g. `model.save('my_model.keras')` or `keras.saving.save_model(model, 'my_model.keras')`. \n"
     ]
    },
    {
     "name": "stdout",
     "output_type": "stream",
     "text": [
      "Accuracy: 0.34\n",
      "Classification Report:\n",
      "              precision    recall  f1-score   support\n",
      "\n",
      "       blues       0.00      0.00      0.00        21\n",
      "   classical       0.43      1.00      0.60        12\n",
      "     country       0.23      0.29      0.26        24\n",
      "       disco       0.44      0.68      0.54        22\n",
      "      hiphop       0.38      0.20      0.26        15\n",
      "        jazz       0.00      0.00      0.00        27\n",
      "       metal       0.76      0.72      0.74        18\n",
      "         pop       0.25      0.05      0.09        19\n",
      "      reggae       0.26      0.45      0.33        22\n",
      "        rock       0.18      0.35      0.24        20\n",
      "\n",
      "    accuracy                           0.34       200\n",
      "   macro avg       0.29      0.38      0.31       200\n",
      "weighted avg       0.27      0.34      0.28       200\n",
      "\n",
      "Modèle VGG16 sauvegardé sous 'vgg_genre_model.h5'.\n"
     ]
    },
    {
     "data": {
      "text/plain": [
       "['label_encoder.pkl']"
      ]
     },
     "execution_count": 3,
     "metadata": {},
     "output_type": "execute_result"
    }
   ],
   "source": [
    "import os\n",
    "import numpy as np\n",
    "import librosa\n",
    "import tensorflow as tf\n",
    "from tensorflow.keras.applications import VGG16\n",
    "from tensorflow.keras.models import Model\n",
    "from tensorflow.keras.layers import Dense, GlobalAveragePooling2D\n",
    "from sklearn.model_selection import train_test_split\n",
    "from sklearn.preprocessing import LabelEncoder\n",
    "import joblib\n",
    "\n",
    "data_path = 'Data/genres_original/'\n",
    "\n",
    "features = []\n",
    "labels = []\n",
    "\n",
    "def audio_to_spectrogram(file_path):\n",
    "    try:\n",
    "        y, sr = librosa.load(file_path, sr=None)\n",
    "        S = librosa.feature.melspectrogram(y=y, sr=sr, n_mels=128, fmax=8000)\n",
    "        S_db = librosa.power_to_db(S, ref=np.max)\n",
    "        return S_db\n",
    "    except Exception as e:\n",
    "        print(f\"Erreur lors de l'extraction du spectrogramme pour {file_path}: {e}\")\n",
    "        return None\n",
    "\n",
    "for genre_folder in os.listdir(data_path):\n",
    "    genre_path = os.path.join(data_path, genre_folder)\n",
    "    if os.path.isdir(genre_path): \n",
    "        for file in os.listdir(genre_path):\n",
    "            if file.endswith('.wav'):  \n",
    "                file_path = os.path.join(genre_path, file)\n",
    "                spectrogram = audio_to_spectrogram(file_path)\n",
    "                \n",
    "                if spectrogram is not None:\n",
    "                   \n",
    "                    spectrogram_resized = np.resize(spectrogram, (224, 224, 1))\n",
    "                    spectrogram_resized = np.repeat(spectrogram_resized, 3, axis=-1)\n",
    "                    \n",
    "                    features.append(spectrogram_resized)\n",
    "                    labels.append(genre_folder)  \n",
    "\n",
    "print(f\"Nombre de spectrogrammes extraits : {len(features)}\")\n",
    "\n",
    "features = np.array(features)\n",
    "labels = np.array(labels)\n",
    "\n",
    "features = features.astype('float32') / 255.0\n",
    "\n",
    "label_encoder = LabelEncoder()\n",
    "labels = label_encoder.fit_transform(labels)\n",
    "\n",
    "X_train, X_test, y_train, y_test = train_test_split(features, labels, test_size=0.2, random_state=42)\n",
    "\n",
    "base_model = VGG16(weights='imagenet', include_top=False, input_shape=(224, 224, 3))\n",
    "\n",
    "x = base_model.output\n",
    "x = GlobalAveragePooling2D()(x)\n",
    "x = Dense(256, activation='relu')(x)\n",
    "x = Dense(128, activation='relu')(x)\n",
    "predictions = Dense(len(np.unique(labels)), activation='softmax')(x)\n",
    "\n",
    "model = Model(inputs=base_model.input, outputs=predictions)\n",
    "\n",
    "for layer in base_model.layers:\n",
    "    layer.trainable = False\n",
    "\n",
    "model.compile(optimizer='adam', loss='sparse_categorical_crossentropy', metrics=['accuracy'])\n",
    "\n",
    "model.fit(X_train, y_train, epochs=10, batch_size=32, validation_data=(X_test, y_test))\n",
    "\n",
    "y_pred = model.predict(X_test)\n",
    "y_pred = np.argmax(y_pred, axis=1)\n",
    "\n",
    "from sklearn.metrics import accuracy_score, classification_report\n",
    "accuracy = accuracy_score(y_test, y_pred)\n",
    "print(f\"Accuracy: {accuracy:.2f}\")\n",
    "print(\"Classification Report:\")\n",
    "print(classification_report(y_test, y_pred, target_names=label_encoder.classes_))\n",
    "\n",
    "model.save('vgg_genre_model.h5')\n",
    "print(\"Modèle VGG16 sauvegardé sous 'vgg_genre_model.h5'.\")\n",
    "joblib.dump(label_encoder, 'label_encoder.pkl')\n"
   ]
  },
  {
   "cell_type": "code",
   "execution_count": null,
   "id": "e5921f57-a74d-4f93-9805-ce3f7d8fa7b9",
   "metadata": {},
   "outputs": [],
   "source": []
  }
 ],
 "metadata": {
  "kernelspec": {
   "display_name": "Python 3 (ipykernel)",
   "language": "python",
   "name": "python3"
  },
  "language_info": {
   "codemirror_mode": {
    "name": "ipython",
    "version": 3
   },
   "file_extension": ".py",
   "mimetype": "text/x-python",
   "name": "python",
   "nbconvert_exporter": "python",
   "pygments_lexer": "ipython3",
   "version": "3.12.4"
  }
 },
 "nbformat": 4,
 "nbformat_minor": 5
}
